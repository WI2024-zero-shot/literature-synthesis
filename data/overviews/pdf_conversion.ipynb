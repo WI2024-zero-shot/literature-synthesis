{
 "cells": [
  {
   "cell_type": "code",
   "execution_count": 1,
   "metadata": {},
   "outputs": [],
   "source": [
    "# Install the pdf conversion tool\n",
    "#!pip install \"unstructured[all-docs]\"\n"
   ]
  },
  {
   "cell_type": "code",
   "execution_count": 1,
   "metadata": {},
   "outputs": [],
   "source": [
    "import glob\n",
    "from unstructured.partition.pdf import partition_pdf\n",
    "import pandas as pd"
   ]
  },
  {
   "cell_type": "code",
   "execution_count": 83,
   "metadata": {},
   "outputs": [],
   "source": [
    "# Specify the path to your CSV file with the data without full texts\n",
    "csv_file_path = 'ai_in_is_data_collection_techniques_solutions.csv'\n",
    "#csv_file_path2 = 'ai_in_is_types_solutions.csv'\n",
    "\n",
    "# Use pandas to read the CSV file\n",
    "df = pd.read_csv(csv_file_path, sep=\";\", encoding='cp1252')\n",
    "# df2 = pd.read_csv(csv_file_path2, sep=\";\", encoding='cp1252')\n",
    "\n",
    "merged_df = pd.merge(df, df2, on='link', how='left')\n"
   ]
  },
  {
   "cell_type": "code",
   "execution_count": 50,
   "metadata": {},
   "outputs": [],
   "source": [
    "# Convert PDFs in current working directory into text\n",
    "my_dict = {}\n",
    "x = glob.glob(\"*.pdf\")\n",
    "for elem in x:\n",
    "    z = str(elem)\n",
    "    elements = partition_pdf(z)\n",
    "    joined_elements = \"\\n\\n\".join([str(el) for el in elements]) # cut new line delimiter from texts\n",
    "    my_dict[z] = joined_elements\n",
    "    # Returns a List[Element] present in the pages of the parsed pdf document"
   ]
  },
  {
   "cell_type": "code",
   "execution_count": null,
   "metadata": {},
   "outputs": [],
   "source": [
    "df_new = pd.Series(my_dict)\n",
    "df_new.index = df_new.index.str.replace('.pdf', '')\n",
    "df_new = df_new.reset_index()\n",
    "df_new.columns = ['i', 'text'] # i is the identifier for the merge in the following\n",
    "df_new['i'] = df_new['i'].astype(str)\n",
    "\n",
    "merged_df['i'] = merged_df.index.astype(str) # Prepare original data without full texts for subsequent merge\n",
    "\n",
    "final_df = pd.merge(merged_df, df_new, on='i', how='left') # Merge with original dataset"
   ]
  },
  {
   "cell_type": "code",
   "execution_count": 96,
   "metadata": {},
   "outputs": [],
   "source": [
    "final_df = final_df.rename(columns={'title_x': 'title'})\n",
    "final_df = final_df.rename(columns={'abstract_x': 'abstract'})\n",
    "final_df.drop(columns='title_y', inplace=True)\n",
    "final_df.drop(columns='abstract_y', inplace=True)\n",
    "final_df.drop(columns='u', inplace=True)\n",
    "\n",
    "# Identify the column to be moved (e.g., 'Age')\n",
    "column_to_move = 'text'\n",
    "\n",
    "# Identify the new position for the column (e.g., position 1)\n",
    "new_position = 4\n",
    "\n",
    "# Pop the column from its current position\n",
    "column_data = final_df.pop(column_to_move)\n",
    "\n",
    "# Insert the column at the new position\n",
    "final_df.insert(new_position, column_to_move, column_data)"
   ]
  },
  {
   "cell_type": "code",
   "execution_count": 98,
   "metadata": {},
   "outputs": [],
   "source": [
    "final_df.to_pickle('ai_in_is_data_collection_techniques_solutions.pkl')\n",
    "#final_df.to_pickle('ai_in_is_types_solutions.pkl')\n"
   ]
  },
  {
   "cell_type": "code",
   "execution_count": null,
   "metadata": {},
   "outputs": [],
   "source": []
  }
 ],
 "metadata": {
  "kernelspec": {
   "display_name": "Python 3",
   "language": "python",
   "name": "python3"
  },
  "language_info": {
   "codemirror_mode": {
    "name": "ipython",
    "version": 3
   },
   "file_extension": ".py",
   "mimetype": "text/x-python",
   "name": "python",
   "nbconvert_exporter": "python",
   "pygments_lexer": "ipython3",
   "version": "3.10.9"
  }
 },
 "nbformat": 4,
 "nbformat_minor": 2
}
